{
  "nbformat": 4,
  "nbformat_minor": 0,
  "metadata": {
    "colab": {
      "name": " InSilicoQ_Tutorial.ipynb",
      "provenance": [],
      "collapsed_sections": []
    },
    "kernelspec": {
      "name": "python3",
      "display_name": "Python 3"
    },
    "language_info": {
      "name": "python"
    }
  },
  "cells": [
    {
      "cell_type": "markdown",
      "source": [
        "#InSilicoQuantum"
      ],
      "metadata": {
        "id": "0git-caBsrsJ"
      }
    },
    {
      "cell_type": "code",
      "source": [
        "!git clone https://github.com/QaiAbdi/InSilicoQ.git"
      ],
      "metadata": {
        "colab": {
          "base_uri": "https://localhost:8080/"
        },
        "id": "0CyJ1hH9rceg",
        "outputId": "3b06f2ca-239e-47ac-f00a-a8c3a9ba9641"
      },
      "execution_count": 1,
      "outputs": [
        {
          "output_type": "stream",
          "name": "stdout",
          "text": [
            "Cloning into 'InSilicoQ'...\n",
            "remote: Enumerating objects: 142, done.\u001b[K\n",
            "remote: Counting objects: 100% (142/142), done.\u001b[K\n",
            "remote: Compressing objects: 100% (104/104), done.\u001b[K\n",
            "remote: Total 142 (delta 72), reused 84 (delta 29), pack-reused 0\u001b[K\n",
            "Receiving objects: 100% (142/142), 156.68 KiB | 1.29 MiB/s, done.\n",
            "Resolving deltas: 100% (72/72), done.\n"
          ]
        }
      ]
    },
    {
      "cell_type": "code",
      "source": [
        "%cd /content/InSilicoQ"
      ],
      "metadata": {
        "colab": {
          "base_uri": "https://localhost:8080/"
        },
        "id": "gptHxhjbr-cn",
        "outputId": "c7093d7d-09f5-47d9-b9c9-ca553e2e8f29"
      },
      "execution_count": 2,
      "outputs": [
        {
          "output_type": "stream",
          "name": "stdout",
          "text": [
            "/content/InSilicoQ\n"
          ]
        }
      ]
    },
    {
      "cell_type": "code",
      "source": [
        "!pip install -r requirements.txt"
      ],
      "metadata": {
        "id": "kL4IcNXLIcvF",
        "colab": {
          "base_uri": "https://localhost:8080/"
        },
        "outputId": "2704b0a7-0aa2-4e50-d12a-ad8fef494744"
      },
      "execution_count": 3,
      "outputs": [
        {
          "output_type": "stream",
          "name": "stdout",
          "text": [
            "Looking in indexes: https://pypi.org/simple, https://us-python.pkg.dev/colab-wheels/public/simple/\n",
            "Requirement already satisfied: numpy in /usr/local/lib/python3.7/dist-packages (from -r requirements.txt (line 1)) (1.21.6)\n",
            "Requirement already satisfied: pandas in /usr/local/lib/python3.7/dist-packages (from -r requirements.txt (line 2)) (1.3.5)\n",
            "Requirement already satisfied: sklearn in /usr/local/lib/python3.7/dist-packages (from -r requirements.txt (line 3)) (0.0)\n",
            "Requirement already satisfied: tensorflow in /usr/local/lib/python3.7/dist-packages (from -r requirements.txt (line 4)) (2.8.2+zzzcolab20220527125636)\n",
            "Requirement already satisfied: matplotlib in /usr/local/lib/python3.7/dist-packages (from -r requirements.txt (line 5)) (3.2.2)\n",
            "Requirement already satisfied: seaborn in /usr/local/lib/python3.7/dist-packages (from -r requirements.txt (line 6)) (0.11.2)\n",
            "Collecting qiskit\n",
            "  Downloading qiskit-0.37.0.tar.gz (13 kB)\n",
            "Collecting qiskit_machine_learning\n",
            "  Downloading qiskit_machine_learning-0.4.0-py3-none-any.whl (126 kB)\n",
            "\u001b[K     |████████████████████████████████| 126 kB 8.6 MB/s \n",
            "\u001b[?25hCollecting pylatexenc\n",
            "  Downloading pylatexenc-2.10.tar.gz (162 kB)\n",
            "\u001b[K     |████████████████████████████████| 162 kB 62.6 MB/s \n",
            "\u001b[?25hCollecting rdkit-pypi\n",
            "  Downloading rdkit_pypi-2022.3.3-cp37-cp37m-manylinux_2_17_x86_64.manylinux2014_x86_64.whl (22.7 MB)\n",
            "\u001b[K     |████████████████████████████████| 22.7 MB 84.4 MB/s \n",
            "\u001b[?25hCollecting chembl_webresource_client\n",
            "  Downloading chembl_webresource_client-0.10.8-py3-none-any.whl (55 kB)\n",
            "\u001b[K     |████████████████████████████████| 55 kB 3.7 MB/s \n",
            "\u001b[?25hCollecting pubchempy\n",
            "  Downloading PubChemPy-1.0.4.tar.gz (29 kB)\n",
            "Requirement already satisfied: pytz>=2017.3 in /usr/local/lib/python3.7/dist-packages (from pandas->-r requirements.txt (line 2)) (2022.1)\n",
            "Requirement already satisfied: python-dateutil>=2.7.3 in /usr/local/lib/python3.7/dist-packages (from pandas->-r requirements.txt (line 2)) (2.8.2)\n",
            "Requirement already satisfied: six>=1.5 in /usr/local/lib/python3.7/dist-packages (from python-dateutil>=2.7.3->pandas->-r requirements.txt (line 2)) (1.15.0)\n",
            "Requirement already satisfied: scikit-learn in /usr/local/lib/python3.7/dist-packages (from sklearn->-r requirements.txt (line 3)) (1.0.2)\n",
            "Requirement already satisfied: tensorflow-estimator<2.9,>=2.8 in /usr/local/lib/python3.7/dist-packages (from tensorflow->-r requirements.txt (line 4)) (2.8.0)\n",
            "Requirement already satisfied: wrapt>=1.11.0 in /usr/local/lib/python3.7/dist-packages (from tensorflow->-r requirements.txt (line 4)) (1.14.1)\n",
            "Requirement already satisfied: grpcio<2.0,>=1.24.3 in /usr/local/lib/python3.7/dist-packages (from tensorflow->-r requirements.txt (line 4)) (1.46.3)\n",
            "Requirement already satisfied: opt-einsum>=2.3.2 in /usr/local/lib/python3.7/dist-packages (from tensorflow->-r requirements.txt (line 4)) (3.3.0)\n",
            "Requirement already satisfied: h5py>=2.9.0 in /usr/local/lib/python3.7/dist-packages (from tensorflow->-r requirements.txt (line 4)) (3.1.0)\n",
            "Requirement already satisfied: absl-py>=0.4.0 in /usr/local/lib/python3.7/dist-packages (from tensorflow->-r requirements.txt (line 4)) (1.1.0)\n",
            "Requirement already satisfied: gast>=0.2.1 in /usr/local/lib/python3.7/dist-packages (from tensorflow->-r requirements.txt (line 4)) (0.5.3)\n",
            "Requirement already satisfied: google-pasta>=0.1.1 in /usr/local/lib/python3.7/dist-packages (from tensorflow->-r requirements.txt (line 4)) (0.2.0)\n",
            "Requirement already satisfied: keras-preprocessing>=1.1.1 in /usr/local/lib/python3.7/dist-packages (from tensorflow->-r requirements.txt (line 4)) (1.1.2)\n",
            "Requirement already satisfied: termcolor>=1.1.0 in /usr/local/lib/python3.7/dist-packages (from tensorflow->-r requirements.txt (line 4)) (1.1.0)\n",
            "Requirement already satisfied: flatbuffers>=1.12 in /usr/local/lib/python3.7/dist-packages (from tensorflow->-r requirements.txt (line 4)) (2.0)\n",
            "Requirement already satisfied: libclang>=9.0.1 in /usr/local/lib/python3.7/dist-packages (from tensorflow->-r requirements.txt (line 4)) (14.0.1)\n",
            "Requirement already satisfied: setuptools in /usr/local/lib/python3.7/dist-packages (from tensorflow->-r requirements.txt (line 4)) (57.4.0)\n",
            "Requirement already satisfied: astunparse>=1.6.0 in /usr/local/lib/python3.7/dist-packages (from tensorflow->-r requirements.txt (line 4)) (1.6.3)\n",
            "Requirement already satisfied: keras<2.9,>=2.8.0rc0 in /usr/local/lib/python3.7/dist-packages (from tensorflow->-r requirements.txt (line 4)) (2.8.0)\n",
            "Requirement already satisfied: typing-extensions>=3.6.6 in /usr/local/lib/python3.7/dist-packages (from tensorflow->-r requirements.txt (line 4)) (4.1.1)\n",
            "Requirement already satisfied: tensorboard<2.9,>=2.8 in /usr/local/lib/python3.7/dist-packages (from tensorflow->-r requirements.txt (line 4)) (2.8.0)\n",
            "Requirement already satisfied: protobuf<3.20,>=3.9.2 in /usr/local/lib/python3.7/dist-packages (from tensorflow->-r requirements.txt (line 4)) (3.17.3)\n",
            "Requirement already satisfied: tensorflow-io-gcs-filesystem>=0.23.1 in /usr/local/lib/python3.7/dist-packages (from tensorflow->-r requirements.txt (line 4)) (0.26.0)\n",
            "Requirement already satisfied: wheel<1.0,>=0.23.0 in /usr/local/lib/python3.7/dist-packages (from astunparse>=1.6.0->tensorflow->-r requirements.txt (line 4)) (0.37.1)\n",
            "Requirement already satisfied: cached-property in /usr/local/lib/python3.7/dist-packages (from h5py>=2.9.0->tensorflow->-r requirements.txt (line 4)) (1.5.2)\n",
            "Requirement already satisfied: requests<3,>=2.21.0 in /usr/local/lib/python3.7/dist-packages (from tensorboard<2.9,>=2.8->tensorflow->-r requirements.txt (line 4)) (2.23.0)\n",
            "Requirement already satisfied: google-auth-oauthlib<0.5,>=0.4.1 in /usr/local/lib/python3.7/dist-packages (from tensorboard<2.9,>=2.8->tensorflow->-r requirements.txt (line 4)) (0.4.6)\n",
            "Requirement already satisfied: werkzeug>=0.11.15 in /usr/local/lib/python3.7/dist-packages (from tensorboard<2.9,>=2.8->tensorflow->-r requirements.txt (line 4)) (1.0.1)\n",
            "Requirement already satisfied: tensorboard-plugin-wit>=1.6.0 in /usr/local/lib/python3.7/dist-packages (from tensorboard<2.9,>=2.8->tensorflow->-r requirements.txt (line 4)) (1.8.1)\n",
            "Requirement already satisfied: tensorboard-data-server<0.7.0,>=0.6.0 in /usr/local/lib/python3.7/dist-packages (from tensorboard<2.9,>=2.8->tensorflow->-r requirements.txt (line 4)) (0.6.1)\n",
            "Requirement already satisfied: markdown>=2.6.8 in /usr/local/lib/python3.7/dist-packages (from tensorboard<2.9,>=2.8->tensorflow->-r requirements.txt (line 4)) (3.3.7)\n",
            "Requirement already satisfied: google-auth<3,>=1.6.3 in /usr/local/lib/python3.7/dist-packages (from tensorboard<2.9,>=2.8->tensorflow->-r requirements.txt (line 4)) (1.35.0)\n",
            "Requirement already satisfied: cachetools<5.0,>=2.0.0 in /usr/local/lib/python3.7/dist-packages (from google-auth<3,>=1.6.3->tensorboard<2.9,>=2.8->tensorflow->-r requirements.txt (line 4)) (4.2.4)\n",
            "Requirement already satisfied: pyasn1-modules>=0.2.1 in /usr/local/lib/python3.7/dist-packages (from google-auth<3,>=1.6.3->tensorboard<2.9,>=2.8->tensorflow->-r requirements.txt (line 4)) (0.2.8)\n",
            "Requirement already satisfied: rsa<5,>=3.1.4 in /usr/local/lib/python3.7/dist-packages (from google-auth<3,>=1.6.3->tensorboard<2.9,>=2.8->tensorflow->-r requirements.txt (line 4)) (4.8)\n",
            "Requirement already satisfied: requests-oauthlib>=0.7.0 in /usr/local/lib/python3.7/dist-packages (from google-auth-oauthlib<0.5,>=0.4.1->tensorboard<2.9,>=2.8->tensorflow->-r requirements.txt (line 4)) (1.3.1)\n",
            "Requirement already satisfied: importlib-metadata>=4.4 in /usr/local/lib/python3.7/dist-packages (from markdown>=2.6.8->tensorboard<2.9,>=2.8->tensorflow->-r requirements.txt (line 4)) (4.11.4)\n",
            "Requirement already satisfied: zipp>=0.5 in /usr/local/lib/python3.7/dist-packages (from importlib-metadata>=4.4->markdown>=2.6.8->tensorboard<2.9,>=2.8->tensorflow->-r requirements.txt (line 4)) (3.8.0)\n",
            "Requirement already satisfied: pyasn1<0.5.0,>=0.4.6 in /usr/local/lib/python3.7/dist-packages (from pyasn1-modules>=0.2.1->google-auth<3,>=1.6.3->tensorboard<2.9,>=2.8->tensorflow->-r requirements.txt (line 4)) (0.4.8)\n",
            "Requirement already satisfied: idna<3,>=2.5 in /usr/local/lib/python3.7/dist-packages (from requests<3,>=2.21.0->tensorboard<2.9,>=2.8->tensorflow->-r requirements.txt (line 4)) (2.10)\n",
            "Requirement already satisfied: certifi>=2017.4.17 in /usr/local/lib/python3.7/dist-packages (from requests<3,>=2.21.0->tensorboard<2.9,>=2.8->tensorflow->-r requirements.txt (line 4)) (2022.6.15)\n",
            "Requirement already satisfied: urllib3!=1.25.0,!=1.25.1,<1.26,>=1.21.1 in /usr/local/lib/python3.7/dist-packages (from requests<3,>=2.21.0->tensorboard<2.9,>=2.8->tensorflow->-r requirements.txt (line 4)) (1.24.3)\n",
            "Requirement already satisfied: chardet<4,>=3.0.2 in /usr/local/lib/python3.7/dist-packages (from requests<3,>=2.21.0->tensorboard<2.9,>=2.8->tensorflow->-r requirements.txt (line 4)) (3.0.4)\n",
            "Requirement already satisfied: oauthlib>=3.0.0 in /usr/local/lib/python3.7/dist-packages (from requests-oauthlib>=0.7.0->google-auth-oauthlib<0.5,>=0.4.1->tensorboard<2.9,>=2.8->tensorflow->-r requirements.txt (line 4)) (3.2.0)\n",
            "Requirement already satisfied: pyparsing!=2.0.4,!=2.1.2,!=2.1.6,>=2.0.1 in /usr/local/lib/python3.7/dist-packages (from matplotlib->-r requirements.txt (line 5)) (3.0.9)\n",
            "Requirement already satisfied: cycler>=0.10 in /usr/local/lib/python3.7/dist-packages (from matplotlib->-r requirements.txt (line 5)) (0.11.0)\n",
            "Requirement already satisfied: kiwisolver>=1.0.1 in /usr/local/lib/python3.7/dist-packages (from matplotlib->-r requirements.txt (line 5)) (1.4.3)\n",
            "Requirement already satisfied: scipy>=1.0 in /usr/local/lib/python3.7/dist-packages (from seaborn->-r requirements.txt (line 6)) (1.4.1)\n",
            "Collecting qiskit-terra==0.21.0\n",
            "  Downloading qiskit_terra-0.21.0-cp37-cp37m-manylinux_2_17_x86_64.manylinux2014_x86_64.whl (6.7 MB)\n",
            "\u001b[K     |████████████████████████████████| 6.7 MB 38.6 MB/s \n",
            "\u001b[?25hCollecting qiskit-aer==0.10.4\n",
            "  Downloading qiskit_aer-0.10.4-cp37-cp37m-manylinux_2_12_x86_64.manylinux2010_x86_64.whl (18.0 MB)\n",
            "\u001b[K     |████████████████████████████████| 18.0 MB 982 kB/s \n",
            "\u001b[?25hCollecting qiskit-ibmq-provider==0.19.2\n",
            "  Downloading qiskit_ibmq_provider-0.19.2-py3-none-any.whl (240 kB)\n",
            "\u001b[K     |████████████████████████████████| 240 kB 52.3 MB/s \n",
            "\u001b[?25hCollecting requests-ntlm>=1.1.0\n",
            "  Downloading requests_ntlm-1.1.0-py2.py3-none-any.whl (5.7 kB)\n",
            "Collecting websockets>=10.0\n",
            "  Downloading websockets-10.3-cp37-cp37m-manylinux_2_5_x86_64.manylinux1_x86_64.manylinux_2_12_x86_64.manylinux2010_x86_64.whl (112 kB)\n",
            "\u001b[K     |████████████████████████████████| 112 kB 43.6 MB/s \n",
            "\u001b[?25hCollecting websocket-client>=1.0.1\n",
            "  Downloading websocket_client-1.3.3-py3-none-any.whl (54 kB)\n",
            "\u001b[K     |████████████████████████████████| 54 kB 2.4 MB/s \n",
            "\u001b[?25hCollecting scipy>=1.0\n",
            "  Downloading scipy-1.7.3-cp37-cp37m-manylinux_2_12_x86_64.manylinux2010_x86_64.whl (38.1 MB)\n",
            "\u001b[K     |████████████████████████████████| 38.1 MB 1.2 MB/s \n",
            "\u001b[?25hCollecting symengine>=0.9\n",
            "  Downloading symengine-0.9.2-cp37-cp37m-manylinux2010_x86_64.whl (37.5 MB)\n",
            "\u001b[K     |████████████████████████████████| 37.5 MB 1.1 MB/s \n",
            "\u001b[?25hCollecting ply>=3.10\n",
            "  Downloading ply-3.11-py2.py3-none-any.whl (49 kB)\n",
            "\u001b[K     |████████████████████████████████| 49 kB 5.3 MB/s \n",
            "\u001b[?25hRequirement already satisfied: sympy>=1.3 in /usr/local/lib/python3.7/dist-packages (from qiskit-terra==0.21.0->qiskit->-r requirements.txt (line 7)) (1.7.1)\n",
            "Collecting stevedore>=3.0.0\n",
            "  Downloading stevedore-3.5.0-py3-none-any.whl (49 kB)\n",
            "\u001b[K     |████████████████████████████████| 49 kB 5.0 MB/s \n",
            "\u001b[?25hCollecting shared-memory38\n",
            "  Downloading shared_memory38-0.1.2-cp37-cp37m-manylinux_2_5_x86_64.manylinux1_x86_64.whl (25 kB)\n",
            "Collecting tweedledum<2.0,>=1.1\n",
            "  Downloading tweedledum-1.1.1-cp37-cp37m-manylinux_2_12_x86_64.manylinux2010_x86_64.whl (943 kB)\n",
            "\u001b[K     |████████████████████████████████| 943 kB 45.9 MB/s \n",
            "\u001b[?25hRequirement already satisfied: psutil>=5 in /usr/local/lib/python3.7/dist-packages (from qiskit-terra==0.21.0->qiskit->-r requirements.txt (line 7)) (5.4.8)\n",
            "Requirement already satisfied: dill>=0.3 in /usr/local/lib/python3.7/dist-packages (from qiskit-terra==0.21.0->qiskit->-r requirements.txt (line 7)) (0.3.5.1)\n",
            "Collecting retworkx>=0.11.0\n",
            "  Downloading retworkx-0.11.0-cp37-cp37m-manylinux_2_5_x86_64.manylinux1_x86_64.manylinux_2_12_x86_64.manylinux2010_x86_64.whl (1.6 MB)\n",
            "\u001b[K     |████████████████████████████████| 1.6 MB 68.9 MB/s \n",
            "\u001b[?25hCollecting ntlm-auth>=1.0.2\n",
            "  Downloading ntlm_auth-1.5.0-py2.py3-none-any.whl (29 kB)\n",
            "Collecting cryptography>=1.3\n",
            "  Downloading cryptography-37.0.2-cp36-abi3-manylinux_2_24_x86_64.whl (4.0 MB)\n",
            "\u001b[K     |████████████████████████████████| 4.0 MB 41.3 MB/s \n",
            "\u001b[?25hRequirement already satisfied: cffi>=1.12 in /usr/local/lib/python3.7/dist-packages (from cryptography>=1.3->requests-ntlm>=1.1.0->qiskit-ibmq-provider==0.19.2->qiskit->-r requirements.txt (line 7)) (1.15.0)\n",
            "Requirement already satisfied: pycparser in /usr/local/lib/python3.7/dist-packages (from cffi>=1.12->cryptography>=1.3->requests-ntlm>=1.1.0->qiskit-ibmq-provider==0.19.2->qiskit->-r requirements.txt (line 7)) (2.21)\n",
            "Collecting pbr!=2.1.0,>=2.0.0\n",
            "  Downloading pbr-5.9.0-py2.py3-none-any.whl (112 kB)\n",
            "\u001b[K     |████████████████████████████████| 112 kB 55.7 MB/s \n",
            "\u001b[?25hRequirement already satisfied: mpmath>=0.19 in /usr/local/lib/python3.7/dist-packages (from sympy>=1.3->qiskit-terra==0.21.0->qiskit->-r requirements.txt (line 7)) (1.2.1)\n",
            "Requirement already satisfied: fastdtw in /usr/local/lib/python3.7/dist-packages (from qiskit_machine_learning->-r requirements.txt (line 8)) (0.3.4)\n",
            "Requirement already satisfied: threadpoolctl>=2.0.0 in /usr/local/lib/python3.7/dist-packages (from scikit-learn->sklearn->-r requirements.txt (line 3)) (3.1.0)\n",
            "Requirement already satisfied: joblib>=0.11 in /usr/local/lib/python3.7/dist-packages (from scikit-learn->sklearn->-r requirements.txt (line 3)) (1.1.0)\n",
            "Requirement already satisfied: Pillow in /usr/local/lib/python3.7/dist-packages (from rdkit-pypi->-r requirements.txt (line 10)) (7.1.2)\n",
            "Requirement already satisfied: easydict in /usr/local/lib/python3.7/dist-packages (from chembl_webresource_client->-r requirements.txt (line 11)) (1.9)\n",
            "Collecting requests-cache~=0.7.0\n",
            "  Downloading requests_cache-0.7.5-py3-none-any.whl (39 kB)\n",
            "Collecting url-normalize<2.0,>=1.4\n",
            "  Downloading url_normalize-1.4.3-py2.py3-none-any.whl (6.8 kB)\n",
            "Collecting pyyaml>=5.4\n",
            "  Downloading PyYAML-6.0-cp37-cp37m-manylinux_2_5_x86_64.manylinux1_x86_64.manylinux_2_12_x86_64.manylinux2010_x86_64.whl (596 kB)\n",
            "\u001b[K     |████████████████████████████████| 596 kB 47.3 MB/s \n",
            "\u001b[?25hRequirement already satisfied: attrs<22.0,>=21.2 in /usr/local/lib/python3.7/dist-packages (from requests-cache~=0.7.0->chembl_webresource_client->-r requirements.txt (line 11)) (21.4.0)\n",
            "Collecting itsdangerous>=2.0.1\n",
            "  Downloading itsdangerous-2.1.2-py3-none-any.whl (15 kB)\n",
            "Building wheels for collected packages: qiskit, pylatexenc, pubchempy\n",
            "  Building wheel for qiskit (setup.py) ... \u001b[?25l\u001b[?25hdone\n",
            "  Created wheel for qiskit: filename=qiskit-0.37.0-py3-none-any.whl size=12028 sha256=3107c957871da9951cda55532991e78e9c929330f97cb5aba01375a26b9b0b29\n",
            "  Stored in directory: /root/.cache/pip/wheels/ed/f9/fa/3ed81abb79590bf4c0432e7816bcdf3f0dbd1ba5aeb3eeddf7\n",
            "  Building wheel for pylatexenc (setup.py) ... \u001b[?25l\u001b[?25hdone\n",
            "  Created wheel for pylatexenc: filename=pylatexenc-2.10-py3-none-any.whl size=136835 sha256=bf25f59a6fbcdf08279a2796f90eb0c4e0231246003e165d71688d716e5dde66\n",
            "  Stored in directory: /root/.cache/pip/wheels/f1/8a/f5/33ee79d4473eb201b519fa40f989b842e373237395a3421f52\n",
            "  Building wheel for pubchempy (setup.py) ... \u001b[?25l\u001b[?25hdone\n",
            "  Created wheel for pubchempy: filename=PubChemPy-1.0.4-py3-none-any.whl size=13834 sha256=47784e3ddc8f64c019c39da44f02893dea97b6d1bd3950e8c599c46fec32533a\n",
            "  Stored in directory: /root/.cache/pip/wheels/7c/3d/8c/8192697412e9899dc55bbbb08bbc1197bef333caaa2a71c448\n",
            "Successfully built qiskit pylatexenc pubchempy\n",
            "Installing collected packages: pbr, tweedledum, symengine, stevedore, shared-memory38, scipy, retworkx, ply, ntlm-auth, cryptography, websockets, websocket-client, url-normalize, requests-ntlm, qiskit-terra, pyyaml, itsdangerous, requests-cache, qiskit-ibmq-provider, qiskit-aer, rdkit-pypi, qiskit-machine-learning, qiskit, pylatexenc, pubchempy, chembl-webresource-client\n",
            "  Attempting uninstall: scipy\n",
            "    Found existing installation: scipy 1.4.1\n",
            "    Uninstalling scipy-1.4.1:\n",
            "      Successfully uninstalled scipy-1.4.1\n",
            "  Attempting uninstall: pyyaml\n",
            "    Found existing installation: PyYAML 3.13\n",
            "    Uninstalling PyYAML-3.13:\n",
            "      Successfully uninstalled PyYAML-3.13\n",
            "  Attempting uninstall: itsdangerous\n",
            "    Found existing installation: itsdangerous 1.1.0\n",
            "    Uninstalling itsdangerous-1.1.0:\n",
            "      Successfully uninstalled itsdangerous-1.1.0\n",
            "\u001b[31mERROR: pip's dependency resolver does not currently take into account all the packages that are installed. This behaviour is the source of the following dependency conflicts.\n",
            "flask 1.1.4 requires itsdangerous<2.0,>=0.24, but you have itsdangerous 2.1.2 which is incompatible.\n",
            "albumentations 0.1.12 requires imgaug<0.2.7,>=0.2.5, but you have imgaug 0.2.9 which is incompatible.\u001b[0m\n",
            "Successfully installed chembl-webresource-client-0.10.8 cryptography-37.0.2 itsdangerous-2.1.2 ntlm-auth-1.5.0 pbr-5.9.0 ply-3.11 pubchempy-1.0.4 pylatexenc-2.10 pyyaml-6.0 qiskit-0.37.0 qiskit-aer-0.10.4 qiskit-ibmq-provider-0.19.2 qiskit-machine-learning-0.4.0 qiskit-terra-0.21.0 rdkit-pypi-2022.3.3 requests-cache-0.7.5 requests-ntlm-1.1.0 retworkx-0.11.0 scipy-1.7.3 shared-memory38-0.1.2 stevedore-3.5.0 symengine-0.9.2 tweedledum-1.1.1 url-normalize-1.4.3 websocket-client-1.3.3 websockets-10.3\n"
          ]
        }
      ]
    },
    {
      "cell_type": "code",
      "source": [
        "!python setup.py install"
      ],
      "metadata": {
        "id": "TauHnKI0tQhk",
        "colab": {
          "base_uri": "https://localhost:8080/"
        },
        "outputId": "1e600347-812b-4b57-932e-7366dce39616"
      },
      "execution_count": 4,
      "outputs": [
        {
          "output_type": "stream",
          "name": "stdout",
          "text": [
            "running install\n",
            "running bdist_egg\n",
            "running egg_info\n",
            "creating insilicoq.egg-info\n",
            "writing insilicoq.egg-info/PKG-INFO\n",
            "writing dependency_links to insilicoq.egg-info/dependency_links.txt\n",
            "writing top-level names to insilicoq.egg-info/top_level.txt\n",
            "writing manifest file 'insilicoq.egg-info/SOURCES.txt'\n",
            "adding license file 'LICENSE'\n",
            "writing manifest file 'insilicoq.egg-info/SOURCES.txt'\n",
            "installing library code to build/bdist.linux-x86_64/egg\n",
            "running install_lib\n",
            "running build_py\n",
            "creating build\n",
            "creating build/lib\n",
            "creating build/lib/insilicoq\n",
            "copying insilicoq/__init__.py -> build/lib/insilicoq\n",
            "copying insilicoq/quantum_graph.py -> build/lib/insilicoq\n",
            "copying insilicoq/quantum_kernel.py -> build/lib/insilicoq\n",
            "copying insilicoq/quantum_knn.py -> build/lib/insilicoq\n",
            "copying insilicoq/quantum_gan.py -> build/lib/insilicoq\n",
            "copying insilicoq/quantum_embedding.py -> build/lib/insilicoq\n",
            "creating build/lib/insilicoq/data\n",
            "copying insilicoq/data/Alignment-HitTable.csv -> build/lib/insilicoq/data\n",
            "creating build/bdist.linux-x86_64\n",
            "creating build/bdist.linux-x86_64/egg\n",
            "creating build/bdist.linux-x86_64/egg/insilicoq\n",
            "copying build/lib/insilicoq/__init__.py -> build/bdist.linux-x86_64/egg/insilicoq\n",
            "copying build/lib/insilicoq/quantum_graph.py -> build/bdist.linux-x86_64/egg/insilicoq\n",
            "copying build/lib/insilicoq/quantum_kernel.py -> build/bdist.linux-x86_64/egg/insilicoq\n",
            "copying build/lib/insilicoq/quantum_knn.py -> build/bdist.linux-x86_64/egg/insilicoq\n",
            "copying build/lib/insilicoq/quantum_gan.py -> build/bdist.linux-x86_64/egg/insilicoq\n",
            "copying build/lib/insilicoq/quantum_embedding.py -> build/bdist.linux-x86_64/egg/insilicoq\n",
            "creating build/bdist.linux-x86_64/egg/insilicoq/data\n",
            "copying build/lib/insilicoq/data/Alignment-HitTable.csv -> build/bdist.linux-x86_64/egg/insilicoq/data\n",
            "byte-compiling build/bdist.linux-x86_64/egg/insilicoq/__init__.py to __init__.cpython-37.pyc\n",
            "byte-compiling build/bdist.linux-x86_64/egg/insilicoq/quantum_graph.py to quantum_graph.cpython-37.pyc\n",
            "Sorry: IndentationError: expected an indented block (quantum_graph.py, line 15)\n",
            "byte-compiling build/bdist.linux-x86_64/egg/insilicoq/quantum_kernel.py to quantum_kernel.cpython-37.pyc\n",
            "byte-compiling build/bdist.linux-x86_64/egg/insilicoq/quantum_knn.py to quantum_knn.cpython-37.pyc\n",
            "byte-compiling build/bdist.linux-x86_64/egg/insilicoq/quantum_gan.py to quantum_gan.cpython-37.pyc\n",
            "byte-compiling build/bdist.linux-x86_64/egg/insilicoq/quantum_embedding.py to quantum_embedding.cpython-37.pyc\n",
            "creating build/bdist.linux-x86_64/egg/EGG-INFO\n",
            "copying insilicoq.egg-info/PKG-INFO -> build/bdist.linux-x86_64/egg/EGG-INFO\n",
            "copying insilicoq.egg-info/SOURCES.txt -> build/bdist.linux-x86_64/egg/EGG-INFO\n",
            "copying insilicoq.egg-info/dependency_links.txt -> build/bdist.linux-x86_64/egg/EGG-INFO\n",
            "copying insilicoq.egg-info/not-zip-safe -> build/bdist.linux-x86_64/egg/EGG-INFO\n",
            "copying insilicoq.egg-info/top_level.txt -> build/bdist.linux-x86_64/egg/EGG-INFO\n",
            "creating dist\n",
            "creating 'dist/insilicoq-0.1-py3.7.egg' and adding 'build/bdist.linux-x86_64/egg' to it\n",
            "removing 'build/bdist.linux-x86_64/egg' (and everything under it)\n",
            "Processing insilicoq-0.1-py3.7.egg\n",
            "creating /usr/local/lib/python3.7/dist-packages/insilicoq-0.1-py3.7.egg\n",
            "Extracting insilicoq-0.1-py3.7.egg to /usr/local/lib/python3.7/dist-packages\n",
            "Sorry: IndentationError: expected an indented block (quantum_graph.py, line 15)\n",
            "Adding insilicoq 0.1 to easy-install.pth file\n",
            "\n",
            "Installed /usr/local/lib/python3.7/dist-packages/insilicoq-0.1-py3.7.egg\n",
            "Processing dependencies for insilicoq==0.1\n",
            "Finished processing dependencies for insilicoq==0.1\n"
          ]
        }
      ]
    },
    {
      "cell_type": "markdown",
      "source": [
        "#Import!"
      ],
      "metadata": {
        "id": "cUMMioGc1zap"
      }
    },
    {
      "cell_type": "code",
      "source": [
        "import insilicoq\n",
        "help(insilicoq)"
      ],
      "metadata": {
        "colab": {
          "base_uri": "https://localhost:8080/"
        },
        "id": "O-ZnP2APLdLW",
        "outputId": "9433bb68-453a-4ab1-dc86-2743c4a2c727"
      },
      "execution_count": 5,
      "outputs": [
        {
          "output_type": "stream",
          "name": "stdout",
          "text": [
            "Help on package insilicoq:\n",
            "\n",
            "NAME\n",
            "    insilicoq\n",
            "\n",
            "PACKAGE CONTENTS\n",
            "    quantum_embedding\n",
            "    quantum_gan\n",
            "    quantum_graph\n",
            "    quantum_kernel\n",
            "    quantum_knn\n",
            "\n",
            "FILE\n",
            "    /content/InSilicoQ/insilicoq/__init__.py\n",
            "\n",
            "\n"
          ]
        }
      ]
    },
    {
      "cell_type": "markdown",
      "source": [
        "###Data Encoding"
      ],
      "metadata": {
        "id": "dHFvSQDWviJG"
      }
    },
    {
      "cell_type": "code",
      "source": [
        "from insilicoq import angle_encoding\n",
        "\n",
        "data = [[1,2,3,4]]\n",
        "num_qubit = 4 #num data points\n",
        "\n",
        "circ = angle_encoding(num_qubit,data)\n",
        "print(circ)"
      ],
      "metadata": {
        "id": "ljgycA-JtW75",
        "colab": {
          "base_uri": "https://localhost:8080/"
        },
        "outputId": "66fb0c12-8da0-4071-c591-4fbdcfd906d9"
      },
      "execution_count": 6,
      "outputs": [
        {
          "output_type": "stream",
          "name": "stdout",
          "text": [
            "     »\n",
            "q_0: »\n",
            "     »\n",
            "q_1: »\n",
            "     »\n",
            "q_2: »\n",
            "     »\n",
            "q_3: »\n",
            "     »\n",
            "«     ┌────────────────────────────────────────────────────────────────────────────────────────┐\n",
            "«q_0: ┤0                                                                                       ├\n",
            "«     │                                                                                        │\n",
            "«q_1: ┤1                                                                                       ├\n",
            "«     │  ZFeatureMap(0.0912870929175277,0.182574185835055,0.273861278752583,0.365148371670111) │\n",
            "«q_2: ┤2                                                                                       ├\n",
            "«     │                                                                                        │\n",
            "«q_3: ┤3                                                                                       ├\n",
            "«     └────────────────────────────────────────────────────────────────────────────────────────┘\n"
          ]
        }
      ]
    },
    {
      "cell_type": "markdown",
      "source": [
        "###Quantum GAN"
      ],
      "metadata": {
        "id": "7_r2eyahvmbg"
      }
    },
    {
      "cell_type": "code",
      "source": [
        "from insilicoq import QGAN\n",
        "\n",
        "qgan = QGAN(2)\n",
        "\n",
        "dis = qgan.qdiscriminator()\n",
        "\n",
        "dis.draw()"
      ],
      "metadata": {
        "colab": {
          "base_uri": "https://localhost:8080/",
          "height": 232
        },
        "id": "NpyAX93ArAYP",
        "outputId": "cf0004d5-16c4-4a38-b5ab-603011eb3bc3"
      },
      "execution_count": 9,
      "outputs": [
        {
          "output_type": "execute_result",
          "data": {
            "text/plain": [
              "      ░     ┌───┐     ┌────────────┐┌────────────┐┌────────────┐          »\n",
              "q_0: ─░─────┤ H ├─────┤ Rx(θ_d[0]) ├┤ Ry(θ_d[1]) ├┤ Rz(θ_d[2]) ├──■───────»\n",
              "      ░ ┌───┴───┴────┐├────────────┤├────────────┤└────────────┘  │       »\n",
              "q_1: ─░─┤ Rx(θ_d[3]) ├┤ Ry(θ_d[4]) ├┤ Rz(θ_d[5]) ├────────────────┼────■──»\n",
              "      ░ ├────────────┤├────────────┤├────────────┤              ┌─┴─┐┌─┴─┐»\n",
              "q_2: ─░─┤ Rx(θ_d[6]) ├┤ Ry(θ_d[7]) ├┤ Rz(θ_d[8]) ├──────────────┤ X ├┤ X ├»\n",
              "      ░ └────────────┘└────────────┘└────────────┘              └───┘└───┘»\n",
              "«                                                 \n",
              "«q_0: ────────────────────────────────────────────\n",
              "«                                                 \n",
              "«q_1: ────────────────────────────────────────────\n",
              "«     ┌────────────┐┌─────────────┐┌─────────────┐\n",
              "«q_2: ┤ Rx(θ_d[9]) ├┤ Ry(θ_d[10]) ├┤ Rz(θ_d[11]) ├\n",
              "«     └────────────┘└─────────────┘└─────────────┘"
            ],
            "text/html": [
              "<pre style=\"word-wrap: normal;white-space: pre;background: #fff0;line-height: 1.1;font-family: &quot;Courier New&quot;,Courier,monospace\">      ░     ┌───┐     ┌────────────┐┌────────────┐┌────────────┐          »\n",
              "q_0: ─░─────┤ H ├─────┤ Rx(θ_d[0]) ├┤ Ry(θ_d[1]) ├┤ Rz(θ_d[2]) ├──■───────»\n",
              "      ░ ┌───┴───┴────┐├────────────┤├────────────┤└────────────┘  │       »\n",
              "q_1: ─░─┤ Rx(θ_d[3]) ├┤ Ry(θ_d[4]) ├┤ Rz(θ_d[5]) ├────────────────┼────■──»\n",
              "      ░ ├────────────┤├────────────┤├────────────┤              ┌─┴─┐┌─┴─┐»\n",
              "q_2: ─░─┤ Rx(θ_d[6]) ├┤ Ry(θ_d[7]) ├┤ Rz(θ_d[8]) ├──────────────┤ X ├┤ X ├»\n",
              "      ░ └────────────┘└────────────┘└────────────┘              └───┘└───┘»\n",
              "«                                                 \n",
              "«q_0: ────────────────────────────────────────────\n",
              "«                                                 \n",
              "«q_1: ────────────────────────────────────────────\n",
              "«     ┌────────────┐┌─────────────┐┌─────────────┐\n",
              "«q_2: ┤ Rx(θ_d[9]) ├┤ Ry(θ_d[10]) ├┤ Rz(θ_d[11]) ├\n",
              "«     └────────────┘└─────────────┘└─────────────┘</pre>"
            ]
          },
          "metadata": {},
          "execution_count": 9
        }
      ]
    },
    {
      "cell_type": "code",
      "source": [
        "gen = qgan.qgenerator()\n",
        "gen.draw()"
      ],
      "metadata": {
        "colab": {
          "base_uri": "https://localhost:8080/",
          "height": 171
        },
        "id": "j3jt18KBvWZX",
        "outputId": "2f0c88c1-17c1-480a-dfb1-05e844b4bfd3"
      },
      "execution_count": 10,
      "outputs": [
        {
          "output_type": "execute_result",
          "data": {
            "text/plain": [
              "     ┌────────────┐┌────────────┐   ┌────────────┐┌────────────┐   »\n",
              "q_0: ┤ Ry(θ_g[0]) ├┤ Rz(θ_g[2]) ├─■─┤ Ry(θ_g[4]) ├┤ Rz(θ_g[6]) ├─■─»\n",
              "     ├────────────┤├────────────┤ │ ├────────────┤├────────────┤ │ »\n",
              "q_1: ┤ Ry(θ_g[1]) ├┤ Rz(θ_g[3]) ├─■─┤ Ry(θ_g[5]) ├┤ Rz(θ_g[7]) ├─■─»\n",
              "     └────────────┘└────────────┘   └────────────┘└────────────┘   »\n",
              "«     ┌────────────┐┌─────────────┐\n",
              "«q_0: ┤ Ry(θ_g[8]) ├┤ Rz(θ_g[10]) ├\n",
              "«     ├────────────┤├─────────────┤\n",
              "«q_1: ┤ Ry(θ_g[9]) ├┤ Rz(θ_g[11]) ├\n",
              "«     └────────────┘└─────────────┘"
            ],
            "text/html": [
              "<pre style=\"word-wrap: normal;white-space: pre;background: #fff0;line-height: 1.1;font-family: &quot;Courier New&quot;,Courier,monospace\">     ┌────────────┐┌────────────┐   ┌────────────┐┌────────────┐   »\n",
              "q_0: ┤ Ry(θ_g[0]) ├┤ Rz(θ_g[2]) ├─■─┤ Ry(θ_g[4]) ├┤ Rz(θ_g[6]) ├─■─»\n",
              "     ├────────────┤├────────────┤ │ ├────────────┤├────────────┤ │ »\n",
              "q_1: ┤ Ry(θ_g[1]) ├┤ Rz(θ_g[3]) ├─■─┤ Ry(θ_g[5]) ├┤ Rz(θ_g[7]) ├─■─»\n",
              "     └────────────┘└────────────┘   └────────────┘└────────────┘   »\n",
              "«     ┌────────────┐┌─────────────┐\n",
              "«q_0: ┤ Ry(θ_g[8]) ├┤ Rz(θ_g[10]) ├\n",
              "«     ├────────────┤├─────────────┤\n",
              "«q_1: ┤ Ry(θ_g[9]) ├┤ Rz(θ_g[11]) ├\n",
              "«     └────────────┘└─────────────┘</pre>"
            ]
          },
          "metadata": {},
          "execution_count": 10
        }
      ]
    },
    {
      "cell_type": "markdown",
      "source": [
        "Testing RDKit"
      ],
      "metadata": {
        "id": "bZUOd19TLsD4"
      }
    },
    {
      "cell_type": "code",
      "source": [
        "from rdkit import Chem\n",
        "from rdkit.Chem import Draw\n",
        "from rdkit.Chem.Draw import IPythonConsole\n",
        "from rdkit.Chem import Descriptors\n",
        "from rdkit.Chem import AllChem\n",
        "from rdkit import DataStructs\n",
        "import numpy as np"
      ],
      "metadata": {
        "id": "8CFWwLhstqpE"
      },
      "execution_count": 7,
      "outputs": []
    },
    {
      "cell_type": "code",
      "source": [
        "mol = Chem.MolFromSmiles('C1CCC1')\n",
        "mol"
      ],
      "metadata": {
        "id": "VawXt0hLLUG0",
        "colab": {
          "base_uri": "https://localhost:8080/",
          "height": 167
        },
        "outputId": "b3080dd2-33c1-431b-f94b-6acd8bc0cff3"
      },
      "execution_count": 8,
      "outputs": [
        {
          "output_type": "execute_result",
          "data": {
            "text/plain": [
              "<rdkit.Chem.rdchem.Mol at 0x7f06aff87030>"
            ],
            "image/png": "[encoded data removed]"
          },
          "metadata": {},
          "execution_count": 8
        }
      ]
    },
    {
      "cell_type": "code",
      "source": [
        ""
      ],
      "metadata": {
        "id": "I0QoaViQbfFD"
      },
      "execution_count": 8,
      "outputs": []
    },
    {
      "cell_type": "code",
      "source": [
        ""
      ],
      "metadata": {
        "id": "ofEp1mBMJTB7"
      },
      "execution_count": 8,
      "outputs": []
    }
  ]
}